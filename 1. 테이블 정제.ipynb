{
 "cells": [
  {
   "cell_type": "code",
   "execution_count": 1,
   "metadata": {},
   "outputs": [],
   "source": [
    "import pandas as pd\n",
    "import numpy as np\n",
    "import warnings\n",
    "warnings.filterwarnings('ignore')\n",
    "import scipy as sp\n",
    "import scipy.stats\n",
    "import pandas\n",
    "import copy as cp\n",
    "\n",
    "# 컬럼을 다 보여주는 함수\n",
    "from IPython.display import display\n",
    "pd.options.display.max_columns = None"
   ]
  },
  {
   "cell_type": "code",
   "execution_count": 2,
   "metadata": {},
   "outputs": [],
   "source": [
    "Product = pd.read_csv('data/Pruduct.csv')\n",
    "Product = Product[Product['HITS_SEQ'] != 1]\n",
    "Product.reset_index(inplace=True,drop=True)\n",
    "Master = pd.read_csv('data/Master.csv')\n",
    "Session = pd.read_csv(\"data/Session.csv\")\n",
    "Custom = pd.read_csv(\"data/Custom.csv\")"
   ]
  },
  {
   "cell_type": "code",
   "execution_count": 3,
   "metadata": {},
   "outputs": [],
   "source": [
    "Item = pd.merge(Product,Master,on=['PD_C'],how='left')\n",
    "Item = Item[['CLNT_ID','SESS_ID','CLAC1_NM','CLAC3_NM']]\n",
    "Item = Item.drop_duplicates()"
   ]
  },
  {
   "cell_type": "code",
   "execution_count": 4,
   "metadata": {},
   "outputs": [],
   "source": [
    "# 한 세션당2개 품목 이상인 거래\n",
    "item_size = Item.groupby(['CLNT_ID','SESS_ID'])['CLAC3_NM'].nunique().reset_index()\n",
    "item_size_2 = item_size[item_size['CLAC3_NM']>1]\n",
    "Item = pd.merge(Item,item_size_2,on=['CLNT_ID',\"SESS_ID\"],how='inner')\n",
    "Item.rename(columns={'CLAC3_NM_x':'CLAC3_NM','CLAC3_NM_y':'item_size'},inplace=True)"
   ]
  },
  {
   "cell_type": "code",
   "execution_count": 5,
   "metadata": {},
   "outputs": [],
   "source": [
    "# 세션내 필요한 컬럼만 추출\n",
    "Session = Session[['CLNT_ID','SESS_ID','SESS_SEQ']]"
   ]
  },
  {
   "cell_type": "code",
   "execution_count": 6,
   "metadata": {},
   "outputs": [],
   "source": [
    "# Cold start 문제\n",
    "# 구매 이력이 하나밖에 없는 User\n",
    "# 구매 이력이 하나밖에 없으면 train시킬 건수는 있지만 test시킬 건수가 없다\n",
    "# 따로 이런 유저들은 어떻게 구매가 이루어졌는지 확인\n",
    "\n",
    "item_clntid = Item.groupby(['CLNT_ID'])['SESS_ID'].nunique().reset_index()\n",
    "item_clntid_1 = item_clntid[item_clntid['SESS_ID']==1]\n",
    "Item_1 = pd.merge(Item,item_clntid_1,on=['CLNT_ID'],how='inner')\n",
    "Item_1.rename(columns={'SESS_ID_y':'sess_uni_c','SESS_ID_x':'SESS_ID'},inplace=True)\n",
    "\n",
    "# 세션내에 구매가 된 상품들을 모아줌\n",
    "Item_1['CLAC3_NM'] = Item_1['CLAC3_NM']+\",\"\n",
    "Item_1 = Item_1.groupby(['CLNT_ID',\"SESS_ID\"])['CLAC3_NM'].sum().reset_index()\n",
    "Item_1['CLAC3_NM'] = Item_1['CLAC3_NM'].apply(lambda x: x.rstrip(','))\n",
    "\n",
    "# CLNT_AGE, CLNT_GENDER 에 있는 nan값 제거\n",
    "Item_1 = pd.merge(Item_1,Session,on=['CLNT_ID','SESS_ID'],how='left')\n",
    "Item_1 = pd.merge(Item_1,Custom,on=['CLNT_ID'],how='left')\n",
    "Item_1 = Item_1[Item_1['CLNT_AGE'].notnull()]"
   ]
  },
  {
   "cell_type": "code",
   "execution_count": 7,
   "metadata": {},
   "outputs": [
    {
     "data": {
      "text/html": [
       "<div>\n",
       "<style scoped>\n",
       "    .dataframe tbody tr th:only-of-type {\n",
       "        vertical-align: middle;\n",
       "    }\n",
       "\n",
       "    .dataframe tbody tr th {\n",
       "        vertical-align: top;\n",
       "    }\n",
       "\n",
       "    .dataframe thead th {\n",
       "        text-align: right;\n",
       "    }\n",
       "</style>\n",
       "<table border=\"1\" class=\"dataframe\">\n",
       "  <thead>\n",
       "    <tr style=\"text-align: right;\">\n",
       "      <th></th>\n",
       "      <th>CLNT_ID</th>\n",
       "      <th>SESS_ID</th>\n",
       "      <th>CLAC3_NM</th>\n",
       "      <th>SESS_SEQ</th>\n",
       "      <th>CLNT_GENDER</th>\n",
       "      <th>CLNT_AGE</th>\n",
       "    </tr>\n",
       "  </thead>\n",
       "  <tbody>\n",
       "    <tr>\n",
       "      <th>0</th>\n",
       "      <td>32</td>\n",
       "      <td>1136737</td>\n",
       "      <td>남성티셔츠,남성캐주얼재킷</td>\n",
       "      <td>99</td>\n",
       "      <td>M</td>\n",
       "      <td>40.0</td>\n",
       "    </tr>\n",
       "    <tr>\n",
       "      <th>2</th>\n",
       "      <td>58</td>\n",
       "      <td>4328876</td>\n",
       "      <td>남성티셔츠,남성캐주얼바지,남성스포츠티셔츠</td>\n",
       "      <td>8</td>\n",
       "      <td>F</td>\n",
       "      <td>30.0</td>\n",
       "    </tr>\n",
       "    <tr>\n",
       "      <th>3</th>\n",
       "      <td>59</td>\n",
       "      <td>425903</td>\n",
       "      <td>기타조리도구,식기건조대/수저통,국자/뒤지개/주걱</td>\n",
       "      <td>126</td>\n",
       "      <td>F</td>\n",
       "      <td>40.0</td>\n",
       "    </tr>\n",
       "    <tr>\n",
       "      <th>4</th>\n",
       "      <td>68</td>\n",
       "      <td>4610298</td>\n",
       "      <td>음료용컵,주류잔</td>\n",
       "      <td>30</td>\n",
       "      <td>F</td>\n",
       "      <td>30.0</td>\n",
       "    </tr>\n",
       "    <tr>\n",
       "      <th>5</th>\n",
       "      <td>71</td>\n",
       "      <td>4825972</td>\n",
       "      <td>여성티셔츠/탑,남성일반스포츠바지</td>\n",
       "      <td>19</td>\n",
       "      <td>F</td>\n",
       "      <td>40.0</td>\n",
       "    </tr>\n",
       "  </tbody>\n",
       "</table>\n",
       "</div>"
      ],
      "text/plain": [
       "   CLNT_ID  SESS_ID                    CLAC3_NM  SESS_SEQ CLNT_GENDER  \\\n",
       "0       32  1136737               남성티셔츠,남성캐주얼재킷        99           M   \n",
       "2       58  4328876      남성티셔츠,남성캐주얼바지,남성스포츠티셔츠         8           F   \n",
       "3       59   425903  기타조리도구,식기건조대/수저통,국자/뒤지개/주걱       126           F   \n",
       "4       68  4610298                    음료용컵,주류잔        30           F   \n",
       "5       71  4825972           여성티셔츠/탑,남성일반스포츠바지        19           F   \n",
       "\n",
       "   CLNT_AGE  \n",
       "0      40.0  \n",
       "2      30.0  \n",
       "3      40.0  \n",
       "4      30.0  \n",
       "5      40.0  "
      ]
     },
     "execution_count": 7,
     "metadata": {},
     "output_type": "execute_result"
    }
   ],
   "source": [
    "Item_1.head()"
   ]
  },
  {
   "cell_type": "code",
   "execution_count": 8,
   "metadata": {},
   "outputs": [],
   "source": [
    "# 10번 이상 거래내역이 있는 고객\n",
    "item_clntid = Item.groupby(['CLNT_ID'])['SESS_ID'].nunique().reset_index()\n",
    "item_clntid_10 = item_clntid[item_clntid['SESS_ID']>=10]\n",
    "Item = pd.merge(Item,item_clntid_10,on=['CLNT_ID'],how='inner')\n",
    "Item.rename(columns={'SESS_ID_y':'sess_uni_c','SESS_ID_x':'SESS_ID'},inplace=True)\n",
    "\n",
    "# 세션내에 구매가 된 상품들을 모아줌\n",
    "Item['CLAC3_NM'] = Item['CLAC3_NM']+\",\"\n",
    "Item = Item.groupby(['CLNT_ID',\"SESS_ID\"])['CLAC3_NM'].sum().reset_index()\n",
    "Item['CLAC3_NM'] = Item['CLAC3_NM'].apply(lambda x: x.rstrip(','))\n",
    "\n",
    "# CLNT_AGE, CLNT_GENDER 에 있는 nan값 제거\n",
    "Item = pd.merge(Item,Session,on=['CLNT_ID','SESS_ID'],how='left')\n",
    "Item = pd.merge(Item,Custom,on=['CLNT_ID'],how='left')\n",
    "Item = Item[Item['CLNT_AGE'].notnull()]"
   ]
  },
  {
   "cell_type": "code",
   "execution_count": 9,
   "metadata": {},
   "outputs": [],
   "source": [
    "def top_2_n(df, n=3):\n",
    "\n",
    "    return df.sort_values(by=[\"SESS_SEQ\"], ascending=False)[1:n]\n",
    "\n",
    "\n",
    "def top_1(df):\n",
    "\n",
    "    return df.sort_values(by=[\"SESS_SEQ\"], ascending=False)[:1]"
   ]
  },
  {
   "cell_type": "code",
   "execution_count": 10,
   "metadata": {},
   "outputs": [],
   "source": [
    "# 10개 이상의 세션을 갖는 CLNT_ID 중에서 가장 최근 구매가 이루어진 세션 TOP 2 - 10\n",
    "Item_train = Item.groupby(['CLNT_ID']).apply(top_2_n,n=10)\n",
    "Item_train.reset_index(inplace=True,drop=True)"
   ]
  },
  {
   "cell_type": "code",
   "execution_count": 11,
   "metadata": {},
   "outputs": [
    {
     "data": {
      "text/html": [
       "<div>\n",
       "<style scoped>\n",
       "    .dataframe tbody tr th:only-of-type {\n",
       "        vertical-align: middle;\n",
       "    }\n",
       "\n",
       "    .dataframe tbody tr th {\n",
       "        vertical-align: top;\n",
       "    }\n",
       "\n",
       "    .dataframe thead th {\n",
       "        text-align: right;\n",
       "    }\n",
       "</style>\n",
       "<table border=\"1\" class=\"dataframe\">\n",
       "  <thead>\n",
       "    <tr style=\"text-align: right;\">\n",
       "      <th></th>\n",
       "      <th>CLNT_ID</th>\n",
       "      <th>SESS_ID</th>\n",
       "      <th>CLAC3_NM</th>\n",
       "      <th>SESS_SEQ</th>\n",
       "      <th>CLNT_GENDER</th>\n",
       "      <th>CLNT_AGE</th>\n",
       "    </tr>\n",
       "  </thead>\n",
       "  <tbody>\n",
       "    <tr>\n",
       "      <th>0</th>\n",
       "      <td>451</td>\n",
       "      <td>4327763</td>\n",
       "      <td>여성샌들,섬유유연제/향기지속제</td>\n",
       "      <td>615</td>\n",
       "      <td>F</td>\n",
       "      <td>40.0</td>\n",
       "    </tr>\n",
       "    <tr>\n",
       "      <th>1</th>\n",
       "      <td>451</td>\n",
       "      <td>4404129</td>\n",
       "      <td>여성스니커즈,남성슬립온</td>\n",
       "      <td>608</td>\n",
       "      <td>F</td>\n",
       "      <td>40.0</td>\n",
       "    </tr>\n",
       "    <tr>\n",
       "      <th>2</th>\n",
       "      <td>451</td>\n",
       "      <td>4464232</td>\n",
       "      <td>여성티셔츠/탑,여성스커트</td>\n",
       "      <td>604</td>\n",
       "      <td>F</td>\n",
       "      <td>40.0</td>\n",
       "    </tr>\n",
       "    <tr>\n",
       "      <th>3</th>\n",
       "      <td>451</td>\n",
       "      <td>5050230</td>\n",
       "      <td>립글로즈/틴트,페이셜클렌저,스킨/토너,바디워시,헤어에센스,여성샌들,여성바지,여성원피...</td>\n",
       "      <td>578</td>\n",
       "      <td>F</td>\n",
       "      <td>40.0</td>\n",
       "    </tr>\n",
       "    <tr>\n",
       "      <th>4</th>\n",
       "      <td>451</td>\n",
       "      <td>5573240</td>\n",
       "      <td>바디워시,트리트먼트/팩,페이셜클렌저,액상세탁세제</td>\n",
       "      <td>561</td>\n",
       "      <td>F</td>\n",
       "      <td>40.0</td>\n",
       "    </tr>\n",
       "    <tr>\n",
       "      <th>5</th>\n",
       "      <td>451</td>\n",
       "      <td>7082059</td>\n",
       "      <td>트리트먼트/팩,바디워시,헤어케어선물세트</td>\n",
       "      <td>522</td>\n",
       "      <td>F</td>\n",
       "      <td>40.0</td>\n",
       "    </tr>\n",
       "    <tr>\n",
       "      <th>6</th>\n",
       "      <td>451</td>\n",
       "      <td>7582904</td>\n",
       "      <td>여성토트백,여성스커트,여성티셔츠/탑,섬유유연제/향기지속제</td>\n",
       "      <td>498</td>\n",
       "      <td>F</td>\n",
       "      <td>40.0</td>\n",
       "    </tr>\n",
       "    <tr>\n",
       "      <th>7</th>\n",
       "      <td>451</td>\n",
       "      <td>7860136</td>\n",
       "      <td>선크림류,헤어케어선물세트</td>\n",
       "      <td>493</td>\n",
       "      <td>F</td>\n",
       "      <td>40.0</td>\n",
       "    </tr>\n",
       "    <tr>\n",
       "      <th>8</th>\n",
       "      <td>451</td>\n",
       "      <td>9532885</td>\n",
       "      <td>여성티셔츠/탑,여성점퍼</td>\n",
       "      <td>460</td>\n",
       "      <td>F</td>\n",
       "      <td>40.0</td>\n",
       "    </tr>\n",
       "    <tr>\n",
       "      <th>9</th>\n",
       "      <td>918</td>\n",
       "      <td>3122439</td>\n",
       "      <td>애견간식,애견목욕/위생용품</td>\n",
       "      <td>191</td>\n",
       "      <td>M</td>\n",
       "      <td>40.0</td>\n",
       "    </tr>\n",
       "  </tbody>\n",
       "</table>\n",
       "</div>"
      ],
      "text/plain": [
       "   CLNT_ID  SESS_ID                                           CLAC3_NM  \\\n",
       "0      451  4327763                                   여성샌들,섬유유연제/향기지속제   \n",
       "1      451  4404129                                       여성스니커즈,남성슬립온   \n",
       "2      451  4464232                                      여성티셔츠/탑,여성스커트   \n",
       "3      451  5050230  립글로즈/틴트,페이셜클렌저,스킨/토너,바디워시,헤어에센스,여성샌들,여성바지,여성원피...   \n",
       "4      451  5573240                         바디워시,트리트먼트/팩,페이셜클렌저,액상세탁세제   \n",
       "5      451  7082059                              트리트먼트/팩,바디워시,헤어케어선물세트   \n",
       "6      451  7582904                    여성토트백,여성스커트,여성티셔츠/탑,섬유유연제/향기지속제   \n",
       "7      451  7860136                                      선크림류,헤어케어선물세트   \n",
       "8      451  9532885                                       여성티셔츠/탑,여성점퍼   \n",
       "9      918  3122439                                     애견간식,애견목욕/위생용품   \n",
       "\n",
       "   SESS_SEQ CLNT_GENDER  CLNT_AGE  \n",
       "0       615           F      40.0  \n",
       "1       608           F      40.0  \n",
       "2       604           F      40.0  \n",
       "3       578           F      40.0  \n",
       "4       561           F      40.0  \n",
       "5       522           F      40.0  \n",
       "6       498           F      40.0  \n",
       "7       493           F      40.0  \n",
       "8       460           F      40.0  \n",
       "9       191           M      40.0  "
      ]
     },
     "execution_count": 11,
     "metadata": {},
     "output_type": "execute_result"
    }
   ],
   "source": [
    "Item_train.head(10)"
   ]
  },
  {
   "cell_type": "code",
   "execution_count": 12,
   "metadata": {},
   "outputs": [],
   "source": [
    "# 가장 최근 구매가 이루어진 세션 TOP 1\n",
    "Item_test = Item.groupby(['CLNT_ID']).apply(top_1)\n",
    "Item_test.reset_index(inplace=True,drop=True)"
   ]
  },
  {
   "cell_type": "code",
   "execution_count": 13,
   "metadata": {},
   "outputs": [
    {
     "data": {
      "text/html": [
       "<div>\n",
       "<style scoped>\n",
       "    .dataframe tbody tr th:only-of-type {\n",
       "        vertical-align: middle;\n",
       "    }\n",
       "\n",
       "    .dataframe tbody tr th {\n",
       "        vertical-align: top;\n",
       "    }\n",
       "\n",
       "    .dataframe thead th {\n",
       "        text-align: right;\n",
       "    }\n",
       "</style>\n",
       "<table border=\"1\" class=\"dataframe\">\n",
       "  <thead>\n",
       "    <tr style=\"text-align: right;\">\n",
       "      <th></th>\n",
       "      <th>CLNT_ID</th>\n",
       "      <th>SESS_ID</th>\n",
       "      <th>CLAC3_NM</th>\n",
       "      <th>SESS_SEQ</th>\n",
       "      <th>CLNT_GENDER</th>\n",
       "      <th>CLNT_AGE</th>\n",
       "    </tr>\n",
       "  </thead>\n",
       "  <tbody>\n",
       "    <tr>\n",
       "      <th>0</th>\n",
       "      <td>451</td>\n",
       "      <td>2074820</td>\n",
       "      <td>샴푸,립글로즈/틴트,칫솔,트리트먼트/팩,아이브로우,치약,액상세탁세제,섬유유연제/향기...</td>\n",
       "      <td>689</td>\n",
       "      <td>F</td>\n",
       "      <td>40.0</td>\n",
       "    </tr>\n",
       "    <tr>\n",
       "      <th>1</th>\n",
       "      <td>918</td>\n",
       "      <td>2463335</td>\n",
       "      <td>여성티셔츠/탑,여성원피스</td>\n",
       "      <td>198</td>\n",
       "      <td>M</td>\n",
       "      <td>40.0</td>\n",
       "    </tr>\n",
       "    <tr>\n",
       "      <th>2</th>\n",
       "      <td>1554</td>\n",
       "      <td>2187612</td>\n",
       "      <td>유아용욕조,분말세탁세제</td>\n",
       "      <td>1285</td>\n",
       "      <td>F</td>\n",
       "      <td>40.0</td>\n",
       "    </tr>\n",
       "    <tr>\n",
       "      <th>3</th>\n",
       "      <td>4619</td>\n",
       "      <td>2066760</td>\n",
       "      <td>여성재킷,남성런닝/트레이닝화,여성바지,여성티셔츠/탑</td>\n",
       "      <td>1329</td>\n",
       "      <td>F</td>\n",
       "      <td>30.0</td>\n",
       "    </tr>\n",
       "    <tr>\n",
       "      <th>4</th>\n",
       "      <td>7263</td>\n",
       "      <td>2838222</td>\n",
       "      <td>냄비,프라이팬</td>\n",
       "      <td>855</td>\n",
       "      <td>F</td>\n",
       "      <td>30.0</td>\n",
       "    </tr>\n",
       "    <tr>\n",
       "      <th>5</th>\n",
       "      <td>7618</td>\n",
       "      <td>2298502</td>\n",
       "      <td>린스/컨디셔너,샴푸</td>\n",
       "      <td>802</td>\n",
       "      <td>F</td>\n",
       "      <td>40.0</td>\n",
       "    </tr>\n",
       "    <tr>\n",
       "      <th>6</th>\n",
       "      <td>7708</td>\n",
       "      <td>2342522</td>\n",
       "      <td>아쿠아슈즈,선크림류</td>\n",
       "      <td>1461</td>\n",
       "      <td>F</td>\n",
       "      <td>50.0</td>\n",
       "    </tr>\n",
       "    <tr>\n",
       "      <th>7</th>\n",
       "      <td>7842</td>\n",
       "      <td>2305199</td>\n",
       "      <td>여성남방셔츠,여성재킷</td>\n",
       "      <td>1098</td>\n",
       "      <td>F</td>\n",
       "      <td>50.0</td>\n",
       "    </tr>\n",
       "    <tr>\n",
       "      <th>8</th>\n",
       "      <td>8351</td>\n",
       "      <td>1424618</td>\n",
       "      <td>여성스커트,여성재킷</td>\n",
       "      <td>1481</td>\n",
       "      <td>F</td>\n",
       "      <td>50.0</td>\n",
       "    </tr>\n",
       "    <tr>\n",
       "      <th>9</th>\n",
       "      <td>10818</td>\n",
       "      <td>2328672</td>\n",
       "      <td>남성캐주얼바지,여성스커트,여성원피스,냅킨</td>\n",
       "      <td>700</td>\n",
       "      <td>F</td>\n",
       "      <td>60.0</td>\n",
       "    </tr>\n",
       "  </tbody>\n",
       "</table>\n",
       "</div>"
      ],
      "text/plain": [
       "   CLNT_ID  SESS_ID                                           CLAC3_NM  \\\n",
       "0      451  2074820  샴푸,립글로즈/틴트,칫솔,트리트먼트/팩,아이브로우,치약,액상세탁세제,섬유유연제/향기...   \n",
       "1      918  2463335                                      여성티셔츠/탑,여성원피스   \n",
       "2     1554  2187612                                       유아용욕조,분말세탁세제   \n",
       "3     4619  2066760                       여성재킷,남성런닝/트레이닝화,여성바지,여성티셔츠/탑   \n",
       "4     7263  2838222                                            냄비,프라이팬   \n",
       "5     7618  2298502                                         린스/컨디셔너,샴푸   \n",
       "6     7708  2342522                                         아쿠아슈즈,선크림류   \n",
       "7     7842  2305199                                        여성남방셔츠,여성재킷   \n",
       "8     8351  1424618                                         여성스커트,여성재킷   \n",
       "9    10818  2328672                             남성캐주얼바지,여성스커트,여성원피스,냅킨   \n",
       "\n",
       "   SESS_SEQ CLNT_GENDER  CLNT_AGE  \n",
       "0       689           F      40.0  \n",
       "1       198           M      40.0  \n",
       "2      1285           F      40.0  \n",
       "3      1329           F      30.0  \n",
       "4       855           F      30.0  \n",
       "5       802           F      40.0  \n",
       "6      1461           F      50.0  \n",
       "7      1098           F      50.0  \n",
       "8      1481           F      50.0  \n",
       "9       700           F      60.0  "
      ]
     },
     "execution_count": 13,
     "metadata": {},
     "output_type": "execute_result"
    }
   ],
   "source": [
    "Item_test.head(10)"
   ]
  },
  {
   "cell_type": "code",
   "execution_count": 14,
   "metadata": {},
   "outputs": [
    {
     "name": "stdout",
     "output_type": "stream",
     "text": [
      "(43101, 6)\n",
      "(4789, 6)\n"
     ]
    }
   ],
   "source": [
    "print(Item_train.shape)\n",
    "print(Item_test.shape)"
   ]
  },
  {
   "cell_type": "code",
   "execution_count": 15,
   "metadata": {},
   "outputs": [],
   "source": [
    "Item_train.to_csv(\"./doc2vec/Item_train.csv\",index=False)\n",
    "Item_test.to_csv(\"./doc2vec/Item_test.csv\",index=False)"
   ]
  },
  {
   "cell_type": "code",
   "execution_count": 16,
   "metadata": {},
   "outputs": [],
   "source": [
    "# Train과 Test데이터셋을 구분하기위해 만든 상품리스트를 다시 나눠줌\n",
    "Item_train['CLAC3_NM'] = Item_train['CLAC3_NM'].apply(lambda x: x.split(','))\n",
    "a = Item_train['CLAC3_NM'].apply(lambda x: pd.Series(x))\n",
    "a = a.stack().reset_index(level=1,drop=True).to_frame('CLAC3_NM')\n",
    "Item_train = Item_train.merge(a,left_index=True,right_index=True,how='left').reset_index(drop=True)\n",
    "Item_train.rename(columns={'CLAC3_NM_y':'CLAC3_NM'},inplace=True)"
   ]
  },
  {
   "cell_type": "code",
   "execution_count": 17,
   "metadata": {},
   "outputs": [],
   "source": [
    "Item_test['CLAC3_NM'] = Item_test['CLAC3_NM'].apply(lambda x: x.split(','))\n",
    "a = Item_test['CLAC3_NM'].apply(lambda x: pd.Series(x))\n",
    "a = a.stack().reset_index(level=1,drop=True).to_frame('CLAC3_NM')\n",
    "Item_test = Item_test.merge(a,left_index=True,right_index=True,how='left').reset_index(drop=True)\n",
    "Item_test.rename(columns={'CLAC3_NM_y':'CLAC3_NM'},inplace=True)"
   ]
  },
  {
   "cell_type": "code",
   "execution_count": 18,
   "metadata": {},
   "outputs": [
    {
     "name": "stdout",
     "output_type": "stream",
     "text": [
      "(120662, 7)\n",
      "(13122, 7)\n",
      "(180199, 6)\n"
     ]
    }
   ],
   "source": [
    "print(Item_train.shape)\n",
    "print(Item_test.shape)\n",
    "print(Item_1.shape)"
   ]
  },
  {
   "cell_type": "code",
   "execution_count": 19,
   "metadata": {},
   "outputs": [],
   "source": [
    "# 한번만 구매된 CLNT_ID들 재 분해\n",
    "Item_1['CLAC3_NM'] = Item_1['CLAC3_NM'].apply(lambda x: x.split(','))\n",
    "a = Item_1['CLAC3_NM'].apply(lambda x: pd.Series(x))\n",
    "a = a.stack().reset_index(level=1,drop=True).to_frame('CLAC3_NM')\n",
    "Item_1 = Item_1.merge(a,left_index=True,right_index=True,how='left').reset_index(drop=True)\n",
    "Item_1.rename(columns={'CLAC3_NM_y':'CLAC3_NM'},inplace=True)"
   ]
  },
  {
   "cell_type": "code",
   "execution_count": 20,
   "metadata": {},
   "outputs": [],
   "source": [
    "Item_train.to_csv(\"./doc2vec/Item_train_flat.csv\",index=False)\n",
    "Item_test.to_csv(\"./doc2vec/Item_test_flat.csv\",index=False)\n",
    "Item_1.to_csv(\"./doc2vec/Item_test_flat.csv\",index=False)"
   ]
  },
  {
   "cell_type": "markdown",
   "metadata": {},
   "source": [
    "- User Features data"
   ]
  },
  {
   "cell_type": "code",
   "execution_count": 21,
   "metadata": {},
   "outputs": [],
   "source": [
    "train_user_features = Item_train[['CLNT_ID','SESS_ID','CLNT_GENDER','CLNT_AGE'\n",
    "#                                   ,'DVC_CTG_NM_y','ZON_NM_y'\n",
    "                                 ]].drop_duplicates()\n",
    "train_user_features.drop(['CLNT_ID','SESS_ID'],inplace=True,axis=1)\n",
    "test_user_features = Item_test[['CLNT_ID','SESS_ID','CLNT_GENDER','CLNT_AGE'\n",
    "#                                 ,'DVC_CTG_NM_y','ZON_NM_y'\n",
    "                               ]].drop_duplicates()\n",
    "test_user_features.drop(['CLNT_ID','SESS_ID'],inplace=True,axis=1)"
   ]
  },
  {
   "cell_type": "code",
   "execution_count": 22,
   "metadata": {},
   "outputs": [],
   "source": [
    "user_features_1 = Item_1[['CLNT_ID','SESS_ID','CLNT_GENDER','CLNT_AGE']].drop_duplicates()\n",
    "user_features_1.drop(['CLNT_ID','SESS_ID'],inplace=True,axis=1)"
   ]
  },
  {
   "cell_type": "code",
   "execution_count": 23,
   "metadata": {},
   "outputs": [
    {
     "name": "stdout",
     "output_type": "stream",
     "text": [
      "(43101, 2)\n",
      "(4789, 2)\n",
      "(180199, 2)\n"
     ]
    }
   ],
   "source": [
    "print(train_user_features.shape)\n",
    "print(test_user_features.shape)\n",
    "print(user_features_1.shape)"
   ]
  },
  {
   "cell_type": "code",
   "execution_count": 24,
   "metadata": {},
   "outputs": [],
   "source": [
    "train_user_features.to_csv(\"./doc2vec/train_user_features.csv\",index=False)\n",
    "test_user_features.to_csv(\"./doc2vec/test_user_features.csv\",index=False)\n",
    "user_features_1.to_csv(\"./doc2vec/user_features_1.csv\",index=False)"
   ]
  },
  {
   "cell_type": "markdown",
   "metadata": {},
   "source": [
    "- label data"
   ]
  },
  {
   "cell_type": "code",
   "execution_count": 25,
   "metadata": {},
   "outputs": [],
   "source": [
    "# 한번만 구매한 label\n",
    "data_1 = Item_1[['CLAC3_NM','SESS_ID','CLNT_ID']]\n",
    "\n",
    "data_1_label = pd.get_dummies(data_1['CLAC3_NM'])\n",
    "data_1_label['CLNT_ID'] = data_1['CLNT_ID']\n",
    "data_1_label['SESS_ID'] = data_1['SESS_ID']\n",
    "\n",
    "data_1_label.reset_index(drop=True,inplace=True)"
   ]
  },
  {
   "cell_type": "code",
   "execution_count": 26,
   "metadata": {},
   "outputs": [],
   "source": [
    "data_1_label = data_1_label.groupby(['CLNT_ID','SESS_ID']).sum().reset_index()\n",
    "data_1_label.drop(['CLNT_ID',\"SESS_ID\"],axis=1,inplace=True)"
   ]
  },
  {
   "cell_type": "code",
   "execution_count": 27,
   "metadata": {},
   "outputs": [],
   "source": [
    "train_data = Item_train[['CLAC3_NM','SESS_ID','CLNT_ID']]\n",
    "test_data = Item_test[['CLAC3_NM','SESS_ID','CLNT_ID']]\n",
    "\n",
    "data = pd.concat([train_data,test_data])"
   ]
  },
  {
   "cell_type": "code",
   "execution_count": 28,
   "metadata": {},
   "outputs": [],
   "source": [
    "data_label = pd.get_dummies(data['CLAC3_NM'])\n",
    "data_label['CLNT_ID'] = data['CLNT_ID']\n",
    "data_label['SESS_ID'] = data['SESS_ID']\n",
    "\n",
    "data_label.reset_index(drop=True,inplace=True)"
   ]
  },
  {
   "cell_type": "code",
   "execution_count": 29,
   "metadata": {},
   "outputs": [],
   "source": [
    "train_label = data_label[:train_data.shape[0]]\n",
    "test_label = data_label[train_data.shape[0]:]"
   ]
  },
  {
   "cell_type": "code",
   "execution_count": 30,
   "metadata": {},
   "outputs": [],
   "source": [
    "train_label = train_label.groupby(['CLNT_ID','SESS_ID']).sum().reset_index()\n",
    "test_label = test_label.groupby(['CLNT_ID','SESS_ID']).sum().reset_index()\n",
    "\n",
    "train_label.drop(['CLNT_ID',\"SESS_ID\"],axis=1,inplace=True)\n",
    "test_label.drop(['CLNT_ID',\"SESS_ID\"],axis=1,inplace=True)"
   ]
  },
  {
   "cell_type": "code",
   "execution_count": 31,
   "metadata": {},
   "outputs": [],
   "source": [
    "train_label.to_csv(\"./doc2vec/train_label2.csv\",index=False)\n",
    "test_label.to_csv(\"./doc2vec/test_label2.csv\",index=False)"
   ]
  },
  {
   "cell_type": "code",
   "execution_count": 32,
   "metadata": {},
   "outputs": [],
   "source": [
    "data_1_label.to_csv(\"./doc2vec/data_1_label.csv\",index=False)"
   ]
  },
  {
   "cell_type": "markdown",
   "metadata": {},
   "source": [
    "- Segment data"
   ]
  },
  {
   "cell_type": "code",
   "execution_count": 33,
   "metadata": {},
   "outputs": [],
   "source": [
    "Item = pd.concat([Item_train,Item_test]).reset_index(drop=True)\n",
    "Master = Master[[\"CLAC1_NM\",'CLAC3_NM']].drop_duplicates()\n",
    "\n",
    "Item = pd.merge(Item,Master,on=['CLAC3_NM'],how='left')"
   ]
  },
  {
   "cell_type": "code",
   "execution_count": 34,
   "metadata": {},
   "outputs": [],
   "source": [
    "Segment = pd.get_dummies(Item[['CLAC1_NM','CLAC3_NM']].set_index(\"CLAC3_NM\")).reset_index(drop=True)\n",
    "\n",
    "Segment['CLNT_ID'] = Item['CLNT_ID']\n",
    "Segment['SESS_ID'] = Item['SESS_ID']"
   ]
  },
  {
   "cell_type": "code",
   "execution_count": 35,
   "metadata": {},
   "outputs": [],
   "source": [
    "# 한번만 구매한 Segment\n",
    "Item_1 = pd.merge(Item_1,Master,on=['CLAC3_NM'],how='left')\n",
    "\n",
    "Segment_1 = pd.get_dummies(Item_1[['CLAC1_NM','CLAC3_NM']].set_index(\"CLAC3_NM\")).reset_index(drop=True)\n",
    "Segment_1['CLNT_ID'] = Item_1['CLNT_ID']\n",
    "Segment_1['SESS_ID'] = Item_1['SESS_ID']\n",
    "\n",
    "Segment_1 = Segment_1.groupby(['CLNT_ID','SESS_ID']).sum().reset_index(drop=True)"
   ]
  },
  {
   "cell_type": "code",
   "execution_count": 36,
   "metadata": {},
   "outputs": [],
   "source": [
    "train_Segment = Segment[:Item_train.shape[0]]\n",
    "test_Segment = Segment[Item_train.shape[0]:]"
   ]
  },
  {
   "cell_type": "code",
   "execution_count": 37,
   "metadata": {
    "scrolled": true
   },
   "outputs": [],
   "source": [
    "train_Segment = train_Segment.groupby(['CLNT_ID','SESS_ID']).sum().reset_index(drop=True)\n",
    "test_Segment = test_Segment.groupby(['CLNT_ID','SESS_ID']).sum().reset_index(drop=True)"
   ]
  },
  {
   "cell_type": "code",
   "execution_count": 38,
   "metadata": {},
   "outputs": [
    {
     "name": "stdout",
     "output_type": "stream",
     "text": [
      "(43101, 37)\n",
      "(4789, 37)\n"
     ]
    }
   ],
   "source": [
    "print(train_Segment.shape)\n",
    "print(test_Segment.shape)"
   ]
  },
  {
   "cell_type": "code",
   "execution_count": 39,
   "metadata": {},
   "outputs": [],
   "source": [
    "train_Segment.to_csv(\"./doc2vec/train_Segment.csv\",index=False)\n",
    "test_Segment.to_csv(\"./doc2vec/test_Segment.csv\",index=False)"
   ]
  },
  {
   "cell_type": "code",
   "execution_count": 40,
   "metadata": {},
   "outputs": [],
   "source": [
    "Segment_1.to_csv(\"./doc2vec/Segment_1.csv\",index=False)"
   ]
  },
  {
   "cell_type": "code",
   "execution_count": 41,
   "metadata": {},
   "outputs": [
    {
     "name": "stdout",
     "output_type": "stream",
     "text": [
      "(120662, 3)\n",
      "(43101, 37)\n",
      "(43101, 831)\n",
      "(43101, 2)\n"
     ]
    }
   ],
   "source": [
    "print(train_data.shape)\n",
    "print(train_Segment.shape)\n",
    "print(train_label.shape)\n",
    "print(train_user_features.shape)"
   ]
  },
  {
   "cell_type": "code",
   "execution_count": 42,
   "metadata": {},
   "outputs": [
    {
     "name": "stdout",
     "output_type": "stream",
     "text": [
      "(13122, 3)\n",
      "(4789, 831)\n",
      "(4789, 37)\n",
      "(4789, 2)\n"
     ]
    }
   ],
   "source": [
    "print(test_data.shape)\n",
    "print(test_label.shape)\n",
    "print(test_Segment.shape)\n",
    "print(test_user_features.shape)"
   ]
  },
  {
   "cell_type": "code",
   "execution_count": null,
   "metadata": {},
   "outputs": [],
   "source": []
  }
 ],
 "metadata": {
  "kernelspec": {
   "display_name": "Python 3",
   "language": "python",
   "name": "python3"
  },
  "language_info": {
   "codemirror_mode": {
    "name": "ipython",
    "version": 3
   },
   "file_extension": ".py",
   "mimetype": "text/x-python",
   "name": "python",
   "nbconvert_exporter": "python",
   "pygments_lexer": "ipython3",
   "version": "3.7.3"
  }
 },
 "nbformat": 4,
 "nbformat_minor": 2
}
